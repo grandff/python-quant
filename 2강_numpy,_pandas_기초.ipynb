{
  "nbformat": 4,
  "nbformat_minor": 0,
  "metadata": {
    "colab": {
      "name": "2강 numpy, pandas 기초.ipynb",
      "provenance": [],
      "collapsed_sections": [],
      "authorship_tag": "ABX9TyNr8F4XaOCTQMmFrsWxLLS6",
      "include_colab_link": true
    },
    "kernelspec": {
      "name": "python3",
      "display_name": "Python 3"
    },
    "language_info": {
      "name": "python"
    }
  },
  "cells": [
    {
      "cell_type": "markdown",
      "metadata": {
        "id": "view-in-github",
        "colab_type": "text"
      },
      "source": [
        "<a href=\"https://colab.research.google.com/github/grandff/python-quant/blob/main/2%EA%B0%95_numpy%2C_pandas_%EA%B8%B0%EC%B4%88.ipynb\" target=\"_parent\"><img src=\"https://colab.research.google.com/assets/colab-badge.svg\" alt=\"Open In Colab\"/></a>"
      ]
    },
    {
      "cell_type": "markdown",
      "metadata": {
        "id": "lrFE003Y5P6Y"
      },
      "source": [
        "numpy 기본 1. 다차원 배열 만들기"
      ]
    },
    {
      "cell_type": "code",
      "metadata": {
        "colab": {
          "base_uri": "https://localhost:8080/"
        },
        "id": "Dha9TT_j4kH8",
        "outputId": "84cafbf6-e096-4088-ab3a-75037686883d"
      },
      "source": [
        "# nupmy 임포트\n",
        "import numpy as np\n",
        "\n",
        "# 1차원배열 생성하기\n",
        "넘파이_배열1 = np.array([1,2,3,4])\n",
        "넘파이_배열1"
      ],
      "execution_count": null,
      "outputs": [
        {
          "output_type": "execute_result",
          "data": {
            "text/plain": [
              "array([1, 2, 3, 4])"
            ]
          },
          "metadata": {},
          "execution_count": 2
        }
      ]
    },
    {
      "cell_type": "code",
      "metadata": {
        "colab": {
          "base_uri": "https://localhost:8080/"
        },
        "id": "UYi44_Qk5Mtd",
        "outputId": "d35e63a5-665e-4d21-80b1-a0821bf0835d"
      },
      "source": [
        "# 2차원배열 생성하기\n",
        "넘파이_배열2 = np.array([[1,2,3,4],[11,12,13,14]])\n",
        "넘파이_배열2"
      ],
      "execution_count": null,
      "outputs": [
        {
          "output_type": "execute_result",
          "data": {
            "text/plain": [
              "array([[ 1,  2,  3,  4],\n",
              "       [11, 12, 13, 14]])"
            ]
          },
          "metadata": {},
          "execution_count": 4
        }
      ]
    },
    {
      "cell_type": "code",
      "metadata": {
        "colab": {
          "base_uri": "https://localhost:8080/"
        },
        "id": "BRZgYMTs5OkZ",
        "outputId": "9229f271-02d7-41dd-c239-aa0b1efe8781"
      },
      "source": [
        "넘파이_배열3 = np.array([\n",
        "                    [\n",
        "                     [1,2,3,4], [11,12,13,14]\n",
        "                    ],\n",
        "                    [\n",
        "                     [21,22,23,24],[31,32,33,34]\n",
        "                    ]\n",
        "])\n",
        "넘파이_배열3"
      ],
      "execution_count": null,
      "outputs": [
        {
          "output_type": "execute_result",
          "data": {
            "text/plain": [
              "array([[[ 1,  2,  3,  4],\n",
              "        [11, 12, 13, 14]],\n",
              "\n",
              "       [[21, 22, 23, 24],\n",
              "        [31, 32, 33, 34]]])"
            ]
          },
          "metadata": {},
          "execution_count": 5
        }
      ]
    },
    {
      "cell_type": "code",
      "metadata": {
        "colab": {
          "base_uri": "https://localhost:8080/"
        },
        "id": "enTL9B5K5rWW",
        "outputId": "80cf9547-1680-4161-a98b-fa5b3c8250ac"
      },
      "source": [
        "# 배열의 모양 보기 (shape 이용)\n",
        "print(넘파이_배열1.shape)\n",
        "print(넘파이_배열2.shape)\n",
        "print(넘파이_배열3.shape)"
      ],
      "execution_count": null,
      "outputs": [
        {
          "output_type": "stream",
          "name": "stdout",
          "text": [
            "(4,)\n",
            "(2, 4)\n",
            "(2, 2, 4)\n"
          ]
        }
      ]
    },
    {
      "cell_type": "code",
      "metadata": {
        "id": "S4BMKnjW5viK"
      },
      "source": [
        "# 임의로 배열 초기화 하기\n",
        "z1 = np.zeros([4])  # 0으로 채운 배열 만들기\n",
        "o2 = np.ones([3,4]) # 1로 채운 배열 만들기\n",
        "r2 = np.random.randn(2,3) # 랜덤한 숫자 배열 만들기"
      ],
      "execution_count": null,
      "outputs": []
    },
    {
      "cell_type": "code",
      "metadata": {
        "colab": {
          "base_uri": "https://localhost:8080/"
        },
        "id": "_r8yODY16Lpq",
        "outputId": "3a6f3892-344c-43d3-a7c4-765320287d0b"
      },
      "source": [
        "z1, o2, r2"
      ],
      "execution_count": null,
      "outputs": [
        {
          "output_type": "execute_result",
          "data": {
            "text/plain": [
              "(array([0., 0., 0., 0.]), array([[1., 1., 1., 1.],\n",
              "        [1., 1., 1., 1.],\n",
              "        [1., 1., 1., 1.]]), array([[-1.00942576,  0.76678742,  0.5494052 ],\n",
              "        [ 0.25499553,  0.53326151, -0.6424472 ]]))"
            ]
          },
          "metadata": {},
          "execution_count": 9
        }
      ]
    },
    {
      "cell_type": "code",
      "metadata": {
        "colab": {
          "base_uri": "https://localhost:8080/"
        },
        "id": "izJ0QZZ56OIA",
        "outputId": "80b2e837-4fa4-4ff4-8cf3-910a54efc39a"
      },
      "source": [
        "# 무척 큰 4차원 배열 생성\n",
        "r4 = np.random.randn(2,2,4,5).round(3)\n",
        "r4"
      ],
      "execution_count": null,
      "outputs": [
        {
          "output_type": "execute_result",
          "data": {
            "text/plain": [
              "array([[[[ 0.566,  0.887,  0.1  ,  0.022, -1.499],\n",
              "         [-0.621, -0.301, -1.197, -0.3  ,  0.512],\n",
              "         [-0.259,  0.966,  0.977,  2.45 , -0.437],\n",
              "         [-0.898,  0.111,  0.588, -0.925, -1.214]],\n",
              "\n",
              "        [[ 0.95 , -0.152, -0.193,  0.34 , -0.448],\n",
              "         [ 0.345,  1.116,  1.319, -1.998, -0.77 ],\n",
              "         [-0.366, -0.918, -1.41 , -0.386, -0.275],\n",
              "         [ 1.269, -1.375,  0.11 ,  1.611,  1.52 ]]],\n",
              "\n",
              "\n",
              "       [[[ 0.914, -0.424, -0.802, -2.253, -0.688],\n",
              "         [-1.472, -0.493, -0.102, -0.289,  0.773],\n",
              "         [-0.093,  1.105,  0.121,  0.672, -0.446],\n",
              "         [ 0.141, -0.623, -1.018, -0.628, -0.132]],\n",
              "\n",
              "        [[-0.82 , -2.702,  0.715, -1.152, -3.534],\n",
              "         [ 0.305,  1.128,  0.942,  0.817,  1.365],\n",
              "         [-0.821,  0.258, -1.22 ,  0.146,  0.834],\n",
              "         [ 0.582,  0.196, -0.011,  1.717,  0.208]]]])"
            ]
          },
          "metadata": {},
          "execution_count": 10
        }
      ]
    },
    {
      "cell_type": "markdown",
      "metadata": {
        "id": "hTN6vPNX6hut"
      },
      "source": [
        "numpy 기본 2. Indexing과 Slicing"
      ]
    },
    {
      "cell_type": "code",
      "metadata": {
        "colab": {
          "base_uri": "https://localhost:8080/"
        },
        "id": "26ZJCBe36dTg",
        "outputId": "30aaa7ee-d4a1-4b5e-8d54-da5ebb4a624a"
      },
      "source": [
        "# r4 배열에서 [두번째][첫번째] 접근해서 가져오기\n",
        "r4[1][1]"
      ],
      "execution_count": null,
      "outputs": [
        {
          "output_type": "execute_result",
          "data": {
            "text/plain": [
              "array([[-0.82 , -2.702,  0.715, -1.152, -3.534],\n",
              "       [ 0.305,  1.128,  0.942,  0.817,  1.365],\n",
              "       [-0.821,  0.258, -1.22 ,  0.146,  0.834],\n",
              "       [ 0.582,  0.196, -0.011,  1.717,  0.208]])"
            ]
          },
          "metadata": {},
          "execution_count": 12
        }
      ]
    },
    {
      "cell_type": "code",
      "metadata": {
        "colab": {
          "base_uri": "https://localhost:8080/"
        },
        "id": "Y88X7eMA6oIl",
        "outputId": "9fa30c60-a171-49e0-8f69-8ae3a54af269"
      },
      "source": [
        "r4[1][1][0]"
      ],
      "execution_count": null,
      "outputs": [
        {
          "output_type": "execute_result",
          "data": {
            "text/plain": [
              "array([-0.82 , -2.702,  0.715, -1.152, -3.534])"
            ]
          },
          "metadata": {},
          "execution_count": 13
        }
      ]
    },
    {
      "cell_type": "code",
      "metadata": {
        "colab": {
          "base_uri": "https://localhost:8080/"
        },
        "id": "JycaeHiZ6yWS",
        "outputId": "9d802dac-d5d3-4088-8b4a-3102d83886e3"
      },
      "source": [
        "r4[1][1][0][3]"
      ],
      "execution_count": null,
      "outputs": [
        {
          "output_type": "execute_result",
          "data": {
            "text/plain": [
              "-1.152"
            ]
          },
          "metadata": {},
          "execution_count": 14
        }
      ]
    },
    {
      "cell_type": "code",
      "metadata": {
        "colab": {
          "base_uri": "https://localhost:8080/"
        },
        "id": "X-OM9vHx61eh",
        "outputId": "bb05d9de-c7d4-4e22-959c-563480341f8f"
      },
      "source": [
        "r4[1, 1, 0, 3] # 대괄호 대신 쉼표 , 도 차원 접근에 가능함"
      ],
      "execution_count": null,
      "outputs": [
        {
          "output_type": "execute_result",
          "data": {
            "text/plain": [
              "-1.152"
            ]
          },
          "metadata": {},
          "execution_count": 16
        }
      ]
    },
    {
      "cell_type": "code",
      "metadata": {
        "colab": {
          "base_uri": "https://localhost:8080/"
        },
        "id": "Spwc7qG966Up",
        "outputId": "abc07947-52c1-4d65-eb49-38ddd2773224"
      },
      "source": [
        "# Indexing 과 Slicing 같이 적용하기\n",
        "r4[1][1][0:3:2]"
      ],
      "execution_count": null,
      "outputs": [
        {
          "output_type": "execute_result",
          "data": {
            "text/plain": [
              "array([[-0.82 , -2.702,  0.715, -1.152, -3.534],\n",
              "       [-0.821,  0.258, -1.22 ,  0.146,  0.834]])"
            ]
          },
          "metadata": {},
          "execution_count": 20
        }
      ]
    },
    {
      "cell_type": "markdown",
      "metadata": {
        "id": "_6-qb9hm7VhL"
      },
      "source": [
        "Broadcasting"
      ]
    },
    {
      "cell_type": "code",
      "metadata": {
        "colab": {
          "base_uri": "https://localhost:8080/"
        },
        "id": "ungDcZrS7Orv",
        "outputId": "9d8d1457-c6f6-43c6-fac2-25d0796e28b7"
      },
      "source": [
        "arr = np.array([[1,2,3,4],[10,11,12,13]])\n",
        "arr"
      ],
      "execution_count": null,
      "outputs": [
        {
          "output_type": "execute_result",
          "data": {
            "text/plain": [
              "array([[ 1,  2,  3,  4],\n",
              "       [10, 11, 12, 13]])"
            ]
          },
          "metadata": {},
          "execution_count": 21
        }
      ]
    },
    {
      "cell_type": "code",
      "metadata": {
        "colab": {
          "base_uri": "https://localhost:8080/"
        },
        "id": "jtMFPavm7bH1",
        "outputId": "f3e7ef05-ea5b-44fc-dac8-288f7f52cf96"
      },
      "source": [
        "arr + arr # 배열끼리 연산하기(+-*/ 모두 가능)"
      ],
      "execution_count": null,
      "outputs": [
        {
          "output_type": "execute_result",
          "data": {
            "text/plain": [
              "array([[ 2,  4,  6,  8],\n",
              "       [20, 22, 24, 26]])"
            ]
          },
          "metadata": {},
          "execution_count": 22
        }
      ]
    },
    {
      "cell_type": "code",
      "metadata": {
        "colab": {
          "base_uri": "https://localhost:8080/"
        },
        "id": "BnwFKOo97eC4",
        "outputId": "a3622e0a-31e2-4200-b58d-7fa60c180f3c"
      },
      "source": [
        "arr + 20    # 덧셈 브로드캐스팅"
      ],
      "execution_count": null,
      "outputs": [
        {
          "output_type": "execute_result",
          "data": {
            "text/plain": [
              "array([[21, 22, 23, 24],\n",
              "       [30, 31, 32, 33]])"
            ]
          },
          "metadata": {},
          "execution_count": 23
        }
      ]
    },
    {
      "cell_type": "code",
      "metadata": {
        "colab": {
          "base_uri": "https://localhost:8080/"
        },
        "id": "AC8IV7L77ge-",
        "outputId": "09808f6d-5979-4746-d7be-71ee2a3ba12c"
      },
      "source": [
        "arr * 100   # 곱셈 브로드캐스팅"
      ],
      "execution_count": null,
      "outputs": [
        {
          "output_type": "execute_result",
          "data": {
            "text/plain": [
              "array([[ 100,  200,  300,  400],\n",
              "       [1000, 1100, 1200, 1300]])"
            ]
          },
          "metadata": {},
          "execution_count": 24
        }
      ]
    },
    {
      "cell_type": "code",
      "metadata": {
        "colab": {
          "base_uri": "https://localhost:8080/"
        },
        "id": "WEQ7yPAo7i-o",
        "outputId": "ef77b048-4316-4af3-95c9-03feea04987f"
      },
      "source": [
        "# 배열 전체의 덧셈, 평균, 곱셈, 최댓값, 최솟값\n",
        "arr.sum()   # 덧셈\n",
        "arr.mean()  # 평균\n",
        "arr.prod()  # 곱셈\n",
        "arr.max()   # 최댓값\n",
        "arr.min()   # 최솟값"
      ],
      "execution_count": null,
      "outputs": [
        {
          "output_type": "execute_result",
          "data": {
            "text/plain": [
              "1"
            ]
          },
          "metadata": {},
          "execution_count": 25
        }
      ]
    },
    {
      "cell_type": "code",
      "metadata": {
        "colab": {
          "base_uri": "https://localhost:8080/"
        },
        "id": "0rrZg1B47yG8",
        "outputId": "ff067556-baa6-44a9-a140-fd28cc031baf"
      },
      "source": [
        "# 배열에서 최대인 원소의 번호, 최소인 원소의 번호\n",
        "arr.argmax(), arr[1].argmax(),  arr.argmin()"
      ],
      "execution_count": null,
      "outputs": [
        {
          "output_type": "execute_result",
          "data": {
            "text/plain": [
              "(7, 3, 0)"
            ]
          },
          "metadata": {},
          "execution_count": 26
        }
      ]
    },
    {
      "cell_type": "markdown",
      "metadata": {
        "id": "rNbmCmeU8ICW"
      },
      "source": [
        "nupmy 기본 4. 고급 Broadcasting"
      ]
    },
    {
      "cell_type": "code",
      "metadata": {
        "colab": {
          "base_uri": "https://localhost:8080/"
        },
        "id": "K0gCfcK78CzM",
        "outputId": "1c52cf2c-eef5-4db0-a44e-09aae804f44c"
      },
      "source": [
        "arr1 = np.array([[0,0,0],[10,10,10],[20,20,20],[30,30,30]])\n",
        "arr2 = np.array([[0,1,2],[0,1,2],[0,1,2],[0,1,2]])\n",
        "arr1.shape, arr2.shape"
      ],
      "execution_count": null,
      "outputs": [
        {
          "output_type": "execute_result",
          "data": {
            "text/plain": [
              "((4, 3), (4, 3))"
            ]
          },
          "metadata": {},
          "execution_count": 27
        }
      ]
    },
    {
      "cell_type": "code",
      "metadata": {
        "colab": {
          "base_uri": "https://localhost:8080/"
        },
        "id": "MAfif1sP8ZzM",
        "outputId": "5a067e08-08d9-4754-f750-e3cba92fd04e"
      },
      "source": [
        "arr1 + arr2"
      ],
      "execution_count": null,
      "outputs": [
        {
          "output_type": "execute_result",
          "data": {
            "text/plain": [
              "array([[ 0,  1,  2],\n",
              "       [10, 11, 12],\n",
              "       [20, 21, 22],\n",
              "       [30, 31, 32]])"
            ]
          },
          "metadata": {},
          "execution_count": 28
        }
      ]
    },
    {
      "cell_type": "code",
      "metadata": {
        "colab": {
          "base_uri": "https://localhost:8080/"
        },
        "id": "x6S-Z2Wm8bFN",
        "outputId": "c6c6df9f-df86-4757-804f-df6e22d49eef"
      },
      "source": [
        "arr1 + np.array([0,1,2])  # 4x3 + 1x3"
      ],
      "execution_count": null,
      "outputs": [
        {
          "output_type": "execute_result",
          "data": {
            "text/plain": [
              "array([[ 0,  1,  2],\n",
              "       [10, 11, 12],\n",
              "       [20, 21, 22],\n",
              "       [30, 31, 32]])"
            ]
          },
          "metadata": {},
          "execution_count": 29
        }
      ]
    },
    {
      "cell_type": "markdown",
      "metadata": {
        "id": "h5tLQEFd-QJJ"
      },
      "source": [
        "pandas 기본 1. serires 행 x 값 데이터"
      ]
    },
    {
      "cell_type": "code",
      "metadata": {
        "colab": {
          "base_uri": "https://localhost:8080/"
        },
        "id": "a3KNHqck8eS1",
        "outputId": "42b919b6-f91c-498b-c09c-c47b28f8428b"
      },
      "source": [
        "# 예제 주식 데이터 파일 다운로드\n",
        "!wget \"https://gist.githubusercontent.com/solaris33/e9938d2f36969a28b5cf15dfc17a77b3/raw/402e4494a6a0cce7d1d1d543cb5d9ac7831c6d1b/stock.adj_close.csv\" -O \"stock.adj_close.csv\""
      ],
      "execution_count": null,
      "outputs": [
        {
          "output_type": "stream",
          "name": "stdout",
          "text": [
            "--2021-10-03 02:27:10--  https://gist.githubusercontent.com/solaris33/e9938d2f36969a28b5cf15dfc17a77b3/raw/402e4494a6a0cce7d1d1d543cb5d9ac7831c6d1b/stock.adj_close.csv\n",
            "Resolving gist.githubusercontent.com (gist.githubusercontent.com)... 185.199.108.133, 185.199.109.133, 185.199.110.133, ...\n",
            "Connecting to gist.githubusercontent.com (gist.githubusercontent.com)|185.199.108.133|:443... connected.\n",
            "HTTP request sent, awaiting response... 200 OK\n",
            "Length: 9051250 (8.6M) [text/plain]\n",
            "Saving to: ‘stock.adj_close.csv’\n",
            "\n",
            "\rstock.adj_close.csv   0%[                    ]       0  --.-KB/s               \rstock.adj_close.csv 100%[===================>]   8.63M  --.-KB/s    in 0.04s   \n",
            "\n",
            "2021-10-03 02:27:10 (206 MB/s) - ‘stock.adj_close.csv’ saved [9051250/9051250]\n",
            "\n"
          ]
        }
      ]
    },
    {
      "cell_type": "code",
      "metadata": {
        "id": "0P7mO6ul-gB3"
      },
      "source": [
        "# pandas 임포트\n",
        "import pandas as pd"
      ],
      "execution_count": null,
      "outputs": []
    },
    {
      "cell_type": "code",
      "metadata": {
        "id": "7d7y42DV-lUd"
      },
      "source": [
        "# 주가 데이터를 불러오고, series 하나를 고름\n",
        "주가_데이터 = pd.read_csv('stock.adj_close.csv', index_col=0)   # read_csv 사용해서 csv파일 read\n",
        "my_series = 주가_데이터.loc['A005930']['2020-09-09':]     # loc를 통해 특정 컬럼 접근, 인덱싱 사용해서 일부만 사용"
      ],
      "execution_count": null,
      "outputs": []
    },
    {
      "cell_type": "code",
      "metadata": {
        "colab": {
          "base_uri": "https://localhost:8080/"
        },
        "id": "DQwCElvk_Db6",
        "outputId": "2f925ba2-a192-4929-c9f4-39ae9ad8d04c"
      },
      "source": [
        "my_series"
      ],
      "execution_count": null,
      "outputs": [
        {
          "output_type": "execute_result",
          "data": {
            "text/plain": [
              "2020-09-09    58400.0\n",
              "2020-09-10    59200.0\n",
              "2020-09-11    59000.0\n",
              "2020-09-14    60400.0\n",
              "2020-09-15    61000.0\n",
              "2020-09-16    61000.0\n",
              "2020-09-17    59500.0\n",
              "2020-09-18    59300.0\n",
              "Name: A005930, dtype: float64"
            ]
          },
          "metadata": {},
          "execution_count": 34
        }
      ]
    },
    {
      "cell_type": "code",
      "metadata": {
        "colab": {
          "base_uri": "https://localhost:8080/"
        },
        "id": "m4dhuJLo_VzO",
        "outputId": "e3d823a3-d102-47e5-8f94-2bcd07e4fce3"
      },
      "source": [
        "my_series.index   # Series의 인덱스 보기"
      ],
      "execution_count": null,
      "outputs": [
        {
          "output_type": "execute_result",
          "data": {
            "text/plain": [
              "Index(['2020-09-09', '2020-09-10', '2020-09-11', '2020-09-14', '2020-09-15',\n",
              "       '2020-09-16', '2020-09-17', '2020-09-18'],\n",
              "      dtype='object')"
            ]
          },
          "metadata": {},
          "execution_count": 35
        }
      ]
    },
    {
      "cell_type": "code",
      "metadata": {
        "colab": {
          "base_uri": "https://localhost:8080/",
          "height": 34
        },
        "id": "TfATf_-o_dG9",
        "outputId": "894d0050-b407-4178-fcc0-761abd4b329b"
      },
      "source": [
        "my_series.name    # Series의 이름 보기"
      ],
      "execution_count": null,
      "outputs": [
        {
          "output_type": "execute_result",
          "data": {
            "application/vnd.google.colaboratory.intrinsic+json": {
              "type": "string"
            },
            "text/plain": [
              "'A005930'"
            ]
          },
          "metadata": {},
          "execution_count": 36
        }
      ]
    },
    {
      "cell_type": "code",
      "metadata": {
        "colab": {
          "base_uri": "https://localhost:8080/"
        },
        "id": "OgRquvoD_jqS",
        "outputId": "3b75e449-48ce-4c15-e8a1-a8f6d1a4acfb"
      },
      "source": [
        "type(my_series) # 타입 확인하기"
      ],
      "execution_count": null,
      "outputs": [
        {
          "output_type": "execute_result",
          "data": {
            "text/plain": [
              "pandas.core.series.Series"
            ]
          },
          "metadata": {},
          "execution_count": 37
        }
      ]
    },
    {
      "cell_type": "markdown",
      "metadata": {
        "id": "OWhMMbx__mgc"
      },
      "source": [
        "pandas 기본 2. 접근, 연산, 생성"
      ]
    },
    {
      "cell_type": "code",
      "metadata": {
        "colab": {
          "base_uri": "https://localhost:8080/"
        },
        "id": "qLhjem-l_l2t",
        "outputId": "17c6021f-5077-4d4d-f5e9-1c7586476fb0"
      },
      "source": [
        "my_series.loc['2020-09-15'] # 인덱스로 접근"
      ],
      "execution_count": null,
      "outputs": [
        {
          "output_type": "execute_result",
          "data": {
            "text/plain": [
              "61000.0"
            ]
          },
          "metadata": {},
          "execution_count": 38
        }
      ]
    },
    {
      "cell_type": "code",
      "metadata": {
        "colab": {
          "base_uri": "https://localhost:8080/"
        },
        "id": "CfvewEom_1Kr",
        "outputId": "14f4ce1d-9eb4-4706-b306-83ac0d59e847"
      },
      "source": [
        "my_series.iloc[4]   # 배열 번호로 접근"
      ],
      "execution_count": null,
      "outputs": [
        {
          "output_type": "execute_result",
          "data": {
            "text/plain": [
              "61000.0"
            ]
          },
          "metadata": {},
          "execution_count": 40
        }
      ]
    },
    {
      "cell_type": "code",
      "metadata": {
        "colab": {
          "base_uri": "https://localhost:8080/"
        },
        "id": "-TRAblMX_4M-",
        "outputId": "f0655fc2-04fa-4444-d3d0-192eabde02e7"
      },
      "source": [
        "my_series.loc['2020-09-15' : '2020-09-17']    # 인덱스로 Slicing"
      ],
      "execution_count": null,
      "outputs": [
        {
          "output_type": "execute_result",
          "data": {
            "text/plain": [
              "2020-09-15    61000.0\n",
              "2020-09-16    61000.0\n",
              "2020-09-17    59500.0\n",
              "Name: A005930, dtype: float64"
            ]
          },
          "metadata": {},
          "execution_count": 41
        }
      ]
    },
    {
      "cell_type": "code",
      "metadata": {
        "colab": {
          "base_uri": "https://localhost:8080/"
        },
        "id": "fIV_V60pAAXz",
        "outputId": "0a6cfa12-4a59-4503-eb10-eb68c94700b0"
      },
      "source": [
        "my_series.iloc[4:7]   # 배열 번호로 Slicing (끝 포함 X)"
      ],
      "execution_count": null,
      "outputs": [
        {
          "output_type": "execute_result",
          "data": {
            "text/plain": [
              "2020-09-15    61000.0\n",
              "2020-09-16    61000.0\n",
              "2020-09-17    59500.0\n",
              "Name: A005930, dtype: float64"
            ]
          },
          "metadata": {},
          "execution_count": 42
        }
      ]
    },
    {
      "cell_type": "code",
      "metadata": {
        "colab": {
          "base_uri": "https://localhost:8080/"
        },
        "id": "gXSxcvXWAGD0",
        "outputId": "10f8f798-978a-4a24-f34e-9be9aeee0baa"
      },
      "source": [
        "my_series.iloc[4:] + my_series.iloc[4:]"
      ],
      "execution_count": null,
      "outputs": [
        {
          "output_type": "execute_result",
          "data": {
            "text/plain": [
              "2020-09-15    122000.0\n",
              "2020-09-16    122000.0\n",
              "2020-09-17    119000.0\n",
              "2020-09-18    118600.0\n",
              "Name: A005930, dtype: float64"
            ]
          },
          "metadata": {},
          "execution_count": 43
        }
      ]
    },
    {
      "cell_type": "code",
      "metadata": {
        "colab": {
          "base_uri": "https://localhost:8080/"
        },
        "id": "oWFeBMmDARCd",
        "outputId": "77ed0806-b9fc-4f0d-880a-8137c44fa1a5"
      },
      "source": [
        "my_series.loc['2020-09-15' :: 3] + 30000    # Scalar Broadcasting"
      ],
      "execution_count": null,
      "outputs": [
        {
          "output_type": "execute_result",
          "data": {
            "text/plain": [
              "2020-09-15    91000.0\n",
              "2020-09-18    89300.0\n",
              "Name: A005930, dtype: float64"
            ]
          },
          "metadata": {},
          "execution_count": 46
        }
      ]
    },
    {
      "cell_type": "code",
      "metadata": {
        "colab": {
          "base_uri": "https://localhost:8080/"
        },
        "id": "T8M7yJKkAUWz",
        "outputId": "a7e432a5-7d30-4c18-de09-3b54fdff0bb9"
      },
      "source": [
        "my_series.iloc[4:].mean()   # 평균"
      ],
      "execution_count": null,
      "outputs": [
        {
          "output_type": "execute_result",
          "data": {
            "text/plain": [
              "60200.0"
            ]
          },
          "metadata": {},
          "execution_count": 47
        }
      ]
    },
    {
      "cell_type": "markdown",
      "metadata": {
        "id": "nJqSi8iqAl-x"
      },
      "source": [
        "pandans 기본 3. DataFrame 행x열 데이터"
      ]
    },
    {
      "cell_type": "code",
      "metadata": {
        "id": "s9qtp4W3AcYq"
      },
      "source": [
        "# 불러온 주가 데이터에서 불러오고, dataframe 하나를 추출\n",
        "my_df = 주가_데이터.T.loc['2020-09-09':, 'A005900' : 'A006000']"
      ],
      "execution_count": null,
      "outputs": []
    },
    {
      "cell_type": "code",
      "metadata": {
        "colab": {
          "base_uri": "https://localhost:8080/",
          "height": 297
        },
        "id": "nn-Ju7gLAxje",
        "outputId": "320eb420-032b-4701-8559-831a32332325"
      },
      "source": [
        "my_df"
      ],
      "execution_count": null,
      "outputs": [
        {
          "output_type": "execute_result",
          "data": {
            "text/html": [
              "<div>\n",
              "<style scoped>\n",
              "    .dataframe tbody tr th:only-of-type {\n",
              "        vertical-align: middle;\n",
              "    }\n",
              "\n",
              "    .dataframe tbody tr th {\n",
              "        vertical-align: top;\n",
              "    }\n",
              "\n",
              "    .dataframe thead th {\n",
              "        text-align: right;\n",
              "    }\n",
              "</style>\n",
              "<table border=\"1\" class=\"dataframe\">\n",
              "  <thead>\n",
              "    <tr style=\"text-align: right;\">\n",
              "      <th>Symbol</th>\n",
              "      <th>A005930</th>\n",
              "      <th>A005940</th>\n",
              "      <th>A005950</th>\n",
              "      <th>A005960</th>\n",
              "      <th>A005980</th>\n",
              "      <th>A005990</th>\n",
              "    </tr>\n",
              "  </thead>\n",
              "  <tbody>\n",
              "    <tr>\n",
              "      <th>2020-09-09</th>\n",
              "      <td>58400.0</td>\n",
              "      <td>9190.0</td>\n",
              "      <td>9080.0</td>\n",
              "      <td>11000.0</td>\n",
              "      <td>671.0</td>\n",
              "      <td>7990.0</td>\n",
              "    </tr>\n",
              "    <tr>\n",
              "      <th>2020-09-10</th>\n",
              "      <td>59200.0</td>\n",
              "      <td>9280.0</td>\n",
              "      <td>9280.0</td>\n",
              "      <td>11150.0</td>\n",
              "      <td>671.0</td>\n",
              "      <td>7960.0</td>\n",
              "    </tr>\n",
              "    <tr>\n",
              "      <th>2020-09-11</th>\n",
              "      <td>59000.0</td>\n",
              "      <td>9270.0</td>\n",
              "      <td>9360.0</td>\n",
              "      <td>11050.0</td>\n",
              "      <td>671.0</td>\n",
              "      <td>8120.0</td>\n",
              "    </tr>\n",
              "    <tr>\n",
              "      <th>2020-09-14</th>\n",
              "      <td>60400.0</td>\n",
              "      <td>9370.0</td>\n",
              "      <td>9400.0</td>\n",
              "      <td>11200.0</td>\n",
              "      <td>671.0</td>\n",
              "      <td>8200.0</td>\n",
              "    </tr>\n",
              "    <tr>\n",
              "      <th>2020-09-15</th>\n",
              "      <td>61000.0</td>\n",
              "      <td>9470.0</td>\n",
              "      <td>9390.0</td>\n",
              "      <td>11350.0</td>\n",
              "      <td>671.0</td>\n",
              "      <td>8180.0</td>\n",
              "    </tr>\n",
              "    <tr>\n",
              "      <th>2020-09-16</th>\n",
              "      <td>61000.0</td>\n",
              "      <td>9530.0</td>\n",
              "      <td>9080.0</td>\n",
              "      <td>11250.0</td>\n",
              "      <td>671.0</td>\n",
              "      <td>8180.0</td>\n",
              "    </tr>\n",
              "    <tr>\n",
              "      <th>2020-09-17</th>\n",
              "      <td>59500.0</td>\n",
              "      <td>9320.0</td>\n",
              "      <td>8880.0</td>\n",
              "      <td>11000.0</td>\n",
              "      <td>671.0</td>\n",
              "      <td>8000.0</td>\n",
              "    </tr>\n",
              "    <tr>\n",
              "      <th>2020-09-18</th>\n",
              "      <td>59300.0</td>\n",
              "      <td>9320.0</td>\n",
              "      <td>9070.0</td>\n",
              "      <td>10850.0</td>\n",
              "      <td>671.0</td>\n",
              "      <td>8020.0</td>\n",
              "    </tr>\n",
              "  </tbody>\n",
              "</table>\n",
              "</div>"
            ],
            "text/plain": [
              "Symbol      A005930  A005940  A005950  A005960  A005980  A005990\n",
              "2020-09-09  58400.0   9190.0   9080.0  11000.0    671.0   7990.0\n",
              "2020-09-10  59200.0   9280.0   9280.0  11150.0    671.0   7960.0\n",
              "2020-09-11  59000.0   9270.0   9360.0  11050.0    671.0   8120.0\n",
              "2020-09-14  60400.0   9370.0   9400.0  11200.0    671.0   8200.0\n",
              "2020-09-15  61000.0   9470.0   9390.0  11350.0    671.0   8180.0\n",
              "2020-09-16  61000.0   9530.0   9080.0  11250.0    671.0   8180.0\n",
              "2020-09-17  59500.0   9320.0   8880.0  11000.0    671.0   8000.0\n",
              "2020-09-18  59300.0   9320.0   9070.0  10850.0    671.0   8020.0"
            ]
          },
          "metadata": {},
          "execution_count": 49
        }
      ]
    },
    {
      "cell_type": "markdown",
      "metadata": {
        "id": "Bx_X_z1lA1aY"
      },
      "source": [
        "pandas 기본 4. DataFrame 접근"
      ]
    },
    {
      "cell_type": "code",
      "metadata": {
        "colab": {
          "base_uri": "https://localhost:8080/"
        },
        "id": "xb22FLAZA3a_",
        "outputId": "af7f0853-6e5a-449e-f656-d1f3eaacd7cd"
      },
      "source": [
        "my_df.loc['2020-09-15', 'A005930']  # loc 단일 원소 접근"
      ],
      "execution_count": null,
      "outputs": [
        {
          "output_type": "execute_result",
          "data": {
            "text/plain": [
              "61000.0"
            ]
          },
          "metadata": {},
          "execution_count": 51
        }
      ]
    },
    {
      "cell_type": "code",
      "metadata": {
        "colab": {
          "base_uri": "https://localhost:8080/"
        },
        "id": "WMvwhaeIAzPq",
        "outputId": "dc5a851d-09e9-46d6-b8db-7b7cd3c915af"
      },
      "source": [
        "# .loc [ 인덱스, 컬럼 slice ] 로 접근 -> Series 변환\n",
        "my_df.loc['2020-09-15', 'A005930' : 'A005950']"
      ],
      "execution_count": null,
      "outputs": [
        {
          "output_type": "execute_result",
          "data": {
            "text/plain": [
              "Symbol\n",
              "A005930    61000.0\n",
              "A005940     9470.0\n",
              "A005950     9390.0\n",
              "Name: 2020-09-15, dtype: float64"
            ]
          },
          "metadata": {},
          "execution_count": 52
        }
      ]
    }
  ]
}